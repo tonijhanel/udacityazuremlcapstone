{
  "cells": [
    {
      "cell_type": "markdown",
      "source": [
        "# Automated ML\n",
        "\n",
        "TODO: Import Dependencies. In the cell below, import all the dependencies that you will need to complete the project."
      ],
      "metadata": {}
    },
    {
      "cell_type": "code",
      "source": [
        "from azureml.core.workspace import Workspace"
      ],
      "outputs": [],
      "execution_count": 1,
      "metadata": {
        "gather": {
          "logged": 1746912661539
        }
      }
    },
    {
      "cell_type": "code",
      "source": [
        "ws = Workspace.from_config()"
      ],
      "outputs": [],
      "execution_count": 2,
      "metadata": {
        "gather": {
          "logged": 1746912663031
        }
      }
    },
    {
      "cell_type": "code",
      "source": [
        "from azureml.core import Environment\n",
        "\n",
        "sklearn_env = Environment.get(workspace=ws, name='AzureML-Tutorial')"
      ],
      "outputs": [],
      "execution_count": 3,
      "metadata": {
        "gather": {
          "logged": 1746912664165
        }
      }
    },
    {
      "cell_type": "code",
      "source": [
        "import logging\n",
        "import os\n",
        "import csv\n",
        "\n",
        "from matplotlib import pyplot as plt\n",
        "import numpy as np\n",
        "import pandas as pd\n",
        "from sklearn import datasets\n",
        "import pkg_resources\n",
        "\n",
        "import azureml.core\n",
        "from azureml.core.experiment import Experiment\n",
        "from azureml.core.workspace import Workspace\n",
        "from azureml.train.automl import AutoMLConfig\n",
        "from azureml.core.dataset import Dataset\n",
        "\n",
        "from azureml.pipeline.steps import AutoMLStep\n",
        "\n",
        "# Check core SDK version number\n",
        "print(\"SDK version:\", azureml.core.VERSION)"
      ],
      "outputs": [
        {
          "output_type": "stream",
          "name": "stdout",
          "text": "SDK version: 1.60.0\n"
        }
      ],
      "execution_count": 4,
      "metadata": {
        "gather": {
          "logged": 1746912668790
        },
        "jupyter": {
          "outputs_hidden": false,
          "source_hidden": false
        },
        "nteract": {
          "transient": {
            "deleting": false
          }
        }
      }
    },
    {
      "cell_type": "markdown",
      "source": [
        "## Dataset\n",
        "\n",
        "### Overview\n",
        "TODO: In this markdown cell, give an overview of the dataset you are using. Also mention the task you will be performing.\n",
        "\n",
        "\n",
        "TODO: Get data. In the cell below, write code to access the data you will be using in this project. Remember that the dataset needs to be external."
      ],
      "metadata": {}
    },
    {
      "cell_type": "code",
      "source": [
        "\n",
        "print(ws.name, ws.resource_group, ws.location, ws.subscription_id, sep = '\\n')"
      ],
      "outputs": [
        {
          "output_type": "stream",
          "name": "stdout",
          "text": "mlcloud\nmlcloud\neastus2\nd990bb6c-7849-4109-9dd7-6cafa051c8ae\n"
        }
      ],
      "execution_count": 6,
      "metadata": {
        "gather": {
          "logged": 1746912684258
        }
      }
    },
    {
      "cell_type": "code",
      "source": [
        "# choose a name for experiment\n",
        "experiment_name = 'CapstoneProj'\n",
        "\n",
        "experiment=Experiment(ws, experiment_name)"
      ],
      "outputs": [],
      "execution_count": 7,
      "metadata": {
        "gather": {
          "logged": 1746912703800
        },
        "jupyter": {
          "outputs_hidden": false,
          "source_hidden": false
        },
        "nteract": {
          "transient": {
            "deleting": false
          }
        }
      }
    },
    {
      "cell_type": "markdown",
      "source": [
        "## AutoML Configuration\n",
        "\n",
        "TODO: Explain why you chose the automl settings and cofiguration you used below."
      ],
      "metadata": {}
    },
    {
      "cell_type": "code",
      "source": [
        "from azureml.core.compute import AmlCompute\n",
        "from azureml.core.compute import ComputeTarget\n",
        "from azureml.core.compute_target import ComputeTargetException\n",
        "\n",
        "# NOTE: update the cluster name to match the existing cluster\n",
        "# Choose a name for your CPU cluster\n",
        "amlcompute_cluster_name = \"project2\"\n",
        "\n",
        "# Verify that cluster does not exist already\n",
        "try:\n",
        "    compute_target = ComputeTarget(workspace=ws, name=amlcompute_cluster_name)\n",
        "    print('Found existing cluster, use it.')\n",
        "except ComputeTargetException:\n",
        "    compute_config = AmlCompute.provisioning_configuration(vm_size='Standard_D2_v3',# for GPU, use \"STANDARD_NC6\"\n",
        "                                                           #vm_priority = 'lowpriority', # optional\n",
        "                                                           max_nodes=4)\n",
        "    compute_target = ComputeTarget.create(ws, amlcompute_cluster_name, compute_config)\n",
        "\n",
        "# For a more detailed view of current AmlCompute status, use get_status()."
      ],
      "outputs": [
        {
          "output_type": "stream",
          "name": "stdout",
          "text": "Found existing cluster, use it.\n"
        }
      ],
      "execution_count": 9,
      "metadata": {
        "gather": {
          "logged": 1746912767470
        }
      }
    },
    {
      "cell_type": "markdown",
      "source": [
        "Get dataset"
      ],
      "metadata": {
        "nteract": {
          "transient": {
            "deleting": false
          }
        }
      }
    },
    {
      "cell_type": "code",
      "source": [
        "# Try to load the dataset from the Workspace. Otherwise, create it from the file\n",
        "# NOTE: update the key to match the dataset name\n",
        "found = False\n",
        "key = \"loandataset\"\n",
        "description_text = \"Loan Dataset for Capstone Project\"\n",
        "\n",
        "if key in ws.datasets.keys(): \n",
        "        found = True\n",
        "        dataset = ws.datasets[key] \n",
        "\n",
        "if not found:\n",
        "        # Create AML Dataset and register it into Workspace\n",
        "        example_data = 'https://automlsamplenotebookdata.blob.core.windows.net/automl-sample-notebook-data/bankmarketing_train.csv'\n",
        "        dataset = Dataset.Tabular.from_delimited_files(example_data)        \n",
        "        #Register Dataset in Workspace\n",
        "        dataset = dataset.register(workspace=ws,\n",
        "                                   name=key,\n",
        "                                   description=description_text)\n",
        "\n",
        "\n",
        "df = dataset.to_pandas_dataframe()\n",
        "df.describe()"
      ],
      "outputs": [
        {
          "output_type": "stream",
          "name": "stdout",
          "text": "{'infer_column_types': 'False', 'activity': 'to_pandas_dataframe'}\n{'infer_column_types': 'False', 'activity': 'to_pandas_dataframe', 'activityApp': 'TabularDataset'}\n"
        },
        {
          "output_type": "execute_result",
          "execution_count": 10,
          "data": {
            "text/plain": "         person_age  person_income  person_emp_exp     loan_amnt  \\\ncount  45000.000000   4.500000e+04    45000.000000  45000.000000   \nmean      27.764178   8.031905e+04        5.410333   9583.157556   \nstd        6.045108   8.042250e+04        6.063532   6314.886691   \nmin       20.000000   8.000000e+03        0.000000    500.000000   \n25%       24.000000   4.720400e+04        1.000000   5000.000000   \n50%       26.000000   6.704800e+04        4.000000   8000.000000   \n75%       30.000000   9.578925e+04        8.000000  12237.250000   \nmax      144.000000   7.200766e+06      125.000000  35000.000000   \n\n       loan_int_rate  loan_percent_income  cb_person_cred_hist_length  \\\ncount   45000.000000         45000.000000                45000.000000   \nmean       11.006606             0.139725                    5.867489   \nstd         2.978808             0.087212                    3.879702   \nmin         5.420000             0.000000                    2.000000   \n25%         8.590000             0.070000                    3.000000   \n50%        11.010000             0.120000                    4.000000   \n75%        12.990000             0.190000                    8.000000   \nmax        20.000000             0.660000                   30.000000   \n\n       credit_score   loan_status  \ncount  45000.000000  45000.000000  \nmean     632.608756      0.222222  \nstd       50.435865      0.415744  \nmin      390.000000      0.000000  \n25%      601.000000      0.000000  \n50%      640.000000      0.000000  \n75%      670.000000      0.000000  \nmax      850.000000      1.000000  ",
            "text/html": "<div>\n<style scoped>\n    .dataframe tbody tr th:only-of-type {\n        vertical-align: middle;\n    }\n\n    .dataframe tbody tr th {\n        vertical-align: top;\n    }\n\n    .dataframe thead th {\n        text-align: right;\n    }\n</style>\n<table border=\"1\" class=\"dataframe\">\n  <thead>\n    <tr style=\"text-align: right;\">\n      <th></th>\n      <th>person_age</th>\n      <th>person_income</th>\n      <th>person_emp_exp</th>\n      <th>loan_amnt</th>\n      <th>loan_int_rate</th>\n      <th>loan_percent_income</th>\n      <th>cb_person_cred_hist_length</th>\n      <th>credit_score</th>\n      <th>loan_status</th>\n    </tr>\n  </thead>\n  <tbody>\n    <tr>\n      <th>count</th>\n      <td>45000.000000</td>\n      <td>4.500000e+04</td>\n      <td>45000.000000</td>\n      <td>45000.000000</td>\n      <td>45000.000000</td>\n      <td>45000.000000</td>\n      <td>45000.000000</td>\n      <td>45000.000000</td>\n      <td>45000.000000</td>\n    </tr>\n    <tr>\n      <th>mean</th>\n      <td>27.764178</td>\n      <td>8.031905e+04</td>\n      <td>5.410333</td>\n      <td>9583.157556</td>\n      <td>11.006606</td>\n      <td>0.139725</td>\n      <td>5.867489</td>\n      <td>632.608756</td>\n      <td>0.222222</td>\n    </tr>\n    <tr>\n      <th>std</th>\n      <td>6.045108</td>\n      <td>8.042250e+04</td>\n      <td>6.063532</td>\n      <td>6314.886691</td>\n      <td>2.978808</td>\n      <td>0.087212</td>\n      <td>3.879702</td>\n      <td>50.435865</td>\n      <td>0.415744</td>\n    </tr>\n    <tr>\n      <th>min</th>\n      <td>20.000000</td>\n      <td>8.000000e+03</td>\n      <td>0.000000</td>\n      <td>500.000000</td>\n      <td>5.420000</td>\n      <td>0.000000</td>\n      <td>2.000000</td>\n      <td>390.000000</td>\n      <td>0.000000</td>\n    </tr>\n    <tr>\n      <th>25%</th>\n      <td>24.000000</td>\n      <td>4.720400e+04</td>\n      <td>1.000000</td>\n      <td>5000.000000</td>\n      <td>8.590000</td>\n      <td>0.070000</td>\n      <td>3.000000</td>\n      <td>601.000000</td>\n      <td>0.000000</td>\n    </tr>\n    <tr>\n      <th>50%</th>\n      <td>26.000000</td>\n      <td>6.704800e+04</td>\n      <td>4.000000</td>\n      <td>8000.000000</td>\n      <td>11.010000</td>\n      <td>0.120000</td>\n      <td>4.000000</td>\n      <td>640.000000</td>\n      <td>0.000000</td>\n    </tr>\n    <tr>\n      <th>75%</th>\n      <td>30.000000</td>\n      <td>9.578925e+04</td>\n      <td>8.000000</td>\n      <td>12237.250000</td>\n      <td>12.990000</td>\n      <td>0.190000</td>\n      <td>8.000000</td>\n      <td>670.000000</td>\n      <td>0.000000</td>\n    </tr>\n    <tr>\n      <th>max</th>\n      <td>144.000000</td>\n      <td>7.200766e+06</td>\n      <td>125.000000</td>\n      <td>35000.000000</td>\n      <td>20.000000</td>\n      <td>0.660000</td>\n      <td>30.000000</td>\n      <td>850.000000</td>\n      <td>1.000000</td>\n    </tr>\n  </tbody>\n</table>\n</div>"
          },
          "metadata": {}
        }
      ],
      "execution_count": 10,
      "metadata": {
        "gather": {
          "logged": 1746912829305
        }
      }
    },
    {
      "cell_type": "code",
      "source": [
        "project_folder = './pipeline-project'"
      ],
      "outputs": [],
      "execution_count": 11,
      "metadata": {
        "gather": {
          "logged": 1746912996072
        }
      }
    },
    {
      "cell_type": "code",
      "source": [
        "# TODO: Put your automl settings here\n",
        "automl_settings = {\n",
        "    \"experiment_timeout_minutes\": 20,\n",
        "    \"max_concurrent_iterations\": 5,\n",
        "    \"primary_metric\" : 'AUC_weighted'\n",
        "}\n",
        "\n",
        "# TODO: Put your automl config here\n",
        "automl_config = AutoMLConfig(compute_target=compute_target,\n",
        "                             task = \"classification\",\n",
        "                             training_data=dataset,\n",
        "                             label_column_name=\"loan_status\",   \n",
        "                             path = project_folder,\n",
        "                             enable_early_stopping= True,\n",
        "                             featurization= 'auto',\n",
        "                             debug_log = \"automl_errors.log\",\n",
        "                             **automl_settings)"
      ],
      "outputs": [],
      "execution_count": 13,
      "metadata": {
        "gather": {
          "logged": 1746913113485
        },
        "jupyter": {
          "outputs_hidden": false,
          "source_hidden": false
        },
        "nteract": {
          "transient": {
            "deleting": false
          }
        }
      }
    },
    {
      "cell_type": "code",
      "source": [
        "# TODO: Submit your experiment\n",
        "remote_run = experiment.submit(automl_config)"
      ],
      "outputs": [
        {
          "output_type": "stream",
          "name": "stdout",
          "text": "Submitting remote run.\n"
        },
        {
          "output_type": "display_data",
          "data": {
            "text/html": "<table style=\"width:100%\"><tr><th>Experiment</th><th>Id</th><th>Type</th><th>Status</th><th>Details Page</th><th>Docs Page</th></tr><tr><td>CapstoneProj</td><td>AutoML_7e5b9b85-56f9-4647-b10a-dc7828aa1612</td><td>automl</td><td>NotStarted</td><td><a href=\"https://ml.azure.com/runs/AutoML_7e5b9b85-56f9-4647-b10a-dc7828aa1612?wsid=/subscriptions/d990bb6c-7849-4109-9dd7-6cafa051c8ae/resourcegroups/mlcloud/workspaces/mlcloud&amp;tid=4c460090-f86f-4a64-9b48-ed4b89bbef7b\" target=\"_blank\" rel=\"noopener\">Link to Azure Machine Learning studio</a></td><td><a href=\"https://docs.microsoft.com/en-us/python/api/overview/azure/ml/intro?view=azure-ml-py\" target=\"_blank\" rel=\"noopener\">Link to Documentation</a></td></tr></table>"
          },
          "metadata": {}
        }
      ],
      "execution_count": 14,
      "metadata": {
        "gather": {
          "logged": 1746913122596
        },
        "jupyter": {
          "outputs_hidden": false,
          "source_hidden": false
        },
        "nteract": {
          "transient": {
            "deleting": false
          }
        }
      }
    },
    {
      "cell_type": "markdown",
      "source": [
        "## Run Details\n",
        "\n",
        "OPTIONAL: Write about the different models trained and their performance. Why do you think some models did better than others?\n",
        "\n",
        "TODO: In the cell below, use the `RunDetails` widget to show the different experiments."
      ],
      "metadata": {}
    },
    {
      "cell_type": "code",
      "source": [
        "from azureml.widgets import RunDetails\n",
        "RunDetails(remote_run).show()"
      ],
      "outputs": [],
      "execution_count": null,
      "metadata": {
        "gather": {
          "logged": 1746913302031
        }
      }
    },
    {
      "cell_type": "code",
      "source": [],
      "outputs": [],
      "execution_count": null,
      "metadata": {
        "gather": {
          "logged": 1598431121770
        },
        "jupyter": {
          "outputs_hidden": false,
          "source_hidden": false
        },
        "nteract": {
          "transient": {
            "deleting": false
          }
        }
      }
    },
    {
      "cell_type": "markdown",
      "source": [
        "## Best Model\n",
        "\n",
        "TODO: In the cell below, get the best model from the automl experiments and display all the properties of the model.\n",
        "\n"
      ],
      "metadata": {}
    },
    {
      "cell_type": "code",
      "source": [
        "# Get best run and model\n",
        "best_run, fitted_model = remote_run.get_output()\n",
        "\n",
        "# Print the best run\n",
        "print(best_run)\n",
        "\n",
        "# Get all metrics of the best run\n",
        "best_run_metrics = best_run.get_metrics()\n",
        "\n",
        "# Print all metrics of the best run\n",
        "for metric_name in best_run_metrics:\n",
        "    metric = best_run_metrics[metric_name]\n",
        "    print(metric_name, metric)"
      ],
      "outputs": [
        {
          "output_type": "stream",
          "name": "stdout",
          "text": "Run(Experiment: CapstoneProj,\nId: AutoML_7e5b9b85-56f9-4647-b10a-dc7828aa1612_37,\nType: azureml.scriptrun,\nStatus: Completed)\nAUC_weighted 0.9819242857142858\nnorm_macro_recall 0.7847142857142857\nAUC_micro 0.988108\nprecision_score_macro 0.9292378742058747\naverage_precision_score_weighted 0.9845126073021082\naverage_precision_score_macro 0.9717243901533279\naccuracy 0.9397777777777778\nrecall_score_micro 0.9397777777777778\nf1_score_weighted 0.9384274473571006\nlog_loss 0.16003347409255533\nf1_score_micro 0.9397777777777778\nbalanced_accuracy 0.8923571428571428\nAUC_macro 0.9819242857142858\naverage_precision_score_micro 0.9885433636737777\nprecision_score_weighted 0.9388898005537714\nf1_score_macro 0.9090724382119444\nmatthews_correlation 0.8207668266432087\nprecision_score_micro 0.9397777777777778\nrecall_score_weighted 0.9397777777777778\nrecall_score_macro 0.8923571428571428\nweighted_accuracy 0.9648301886792452\nconfusion_matrix aml://artifactId/ExperimentRun/dcid.AutoML_7e5b9b85-56f9-4647-b10a-dc7828aa1612_37/confusion_matrix\naccuracy_table aml://artifactId/ExperimentRun/dcid.AutoML_7e5b9b85-56f9-4647-b10a-dc7828aa1612_37/accuracy_table\n"
        }
      ],
      "execution_count": 17,
      "metadata": {
        "gather": {
          "logged": 1746915706197
        }
      }
    },
    {
      "cell_type": "code",
      "source": [
        "# Register the model to deploy\n",
        "automl_model = best_run.register_model(model_name = \"automl_capstone_bestmodel\", model_path = \"outputs/model.pkl\")\n",
        "print(automl_model)"
      ],
      "outputs": [
        {
          "output_type": "stream",
          "name": "stdout",
          "text": "Model(workspace=Workspace.create(name='mlcloud', subscription_id='d990bb6c-7849-4109-9dd7-6cafa051c8ae', resource_group='mlcloud'), name=automl_capstone_bestmodel, id=automl_capstone_bestmodel:2, version=2, tags={}, properties={})\n"
        }
      ],
      "execution_count": 24,
      "metadata": {
        "gather": {
          "logged": 1746916384935
        }
      }
    },
    {
      "cell_type": "code",
      "source": [],
      "outputs": [],
      "execution_count": null,
      "metadata": {}
    },
    {
      "cell_type": "code",
      "source": [
        "from azureml.core import Model"
      ],
      "outputs": [],
      "execution_count": 20,
      "metadata": {
        "gather": {
          "logged": 1746916005873
        }
      }
    },
    {
      "cell_type": "code",
      "source": [
        "# List registered models to verify if model has been saved\n",
        "for model in Model.list(ws):\n",
        "    print(model.name, 'version:', model.version)\n",
        "    for tag_name in model.tags:\n",
        "        tag = model.tags[tag_name]\n",
        "        print ('\\t',tag_name, ':', tag)\n",
        "    for prop_name in model.properties:\n",
        "        prop = model.properties[prop_name]\n",
        "        print ('\\t',prop_name, ':', prop)\n",
        "    print('\\n')"
      ],
      "outputs": [
        {
          "output_type": "stream",
          "name": "stdout",
          "text": "automl_capstone_bestmodel version: 1\n\n\nudacityprojec221 version: 1\n\n\nproject218 version: 1\n\n\nbank_marketing_best_model version: 1\n\n\nbikeautoml9 version: 1\n\n\nbest-logistic-regression-model version: 2\n\t Training context : HyperDrive\n\n\nbest-automl-model version: 1\n\t Training context : AutoML\n\n\nbest-logistic-regression-model version: 1\n\t Training context : HyperDrive\n\n\nfashionhaven-sales-predictor-gbr version: 5\n\t flavors.python_function : {\n  \"model_path\": \"model.pkl\",\n  \"predict_fn\": \"predict\",\n  \"loader_module\": \"mlflow.sklearn\",\n  \"python_version\": \"3.8.16\",\n  \"env\": {\n    \"conda\": \"conda.yaml\",\n    \"virtualenv\": \"python_env.yaml\"\n  }\n}\n\t flavors.sklearn : {\n  \"pickled_model\": \"model.pkl\",\n  \"sklearn_version\": \"1.0.2\",\n  \"serialization_format\": \"cloudpickle\",\n  \"code\": null\n}\n\t flavors : python_function,sklearn\n\t azureml.artifactPrefix : ExperimentRun/dcid.9252b192-4db5-44cc-882c-976af4ee5dd9/fashionhaven-sales-predictor-gbr\n\t model_json : {\"run_id\": \"9252b192-4db5-44cc-882c-976af4ee5dd9\", \"artifact_path\": \"fashionhaven-sales-predictor-gbr\", \"utc_time_created\": \"2025-03-22 19:04:40.247912\", \"flavors\": {\"python_function\": {\"model_path\": \"model.pkl\", \"predict_fn\": \"predict\", \"loader_module\": \"mlflow.sklearn\", \"python_version\": \"3.8.16\", \"env\": {\"conda\": \"conda.yaml\", \"virtualenv\": \"python_env.yaml\"}}, \"sklearn\": {\"pickled_model\": \"model.pkl\", \"sklearn_version\": \"1.0.2\", \"serialization_format\": \"cloudpickle\", \"code\": null}}, \"model_uuid\": \"bf4470f758fd4fe78313cfde961213f8\", \"mlflow_version\": \"2.4.1\"}\n\t azureml.storagePath : ExperimentRun/dcid.9252b192-4db5-44cc-882c-976af4ee5dd9/fashionhaven-sales-predictor-gbr\n\t mlflow.modelSourceUri : azureml://eastus2.api.azureml.ms/mlflow/v2.0/subscriptions/d990bb6c-7849-4109-9dd7-6cafa051c8ae/resourceGroups/mlcloud/providers/Microsoft.MachineLearningServices/workspaces/mlcloud/experiments/44ff229a-c674-48a9-a4f1-0636949d13fe/runs/9252b192-4db5-44cc-882c-976af4ee5dd9/artifacts/fashionhaven-sales-predictor-gbr\n\n\nfashionhaven-sales-predictor-gbr version: 4\n\t flavors.python_function : {\n  \"model_path\": \"model.pkl\",\n  \"predict_fn\": \"predict\",\n  \"loader_module\": \"mlflow.sklearn\",\n  \"python_version\": \"3.8.16\",\n  \"env\": {\n    \"conda\": \"conda.yaml\",\n    \"virtualenv\": \"python_env.yaml\"\n  }\n}\n\t flavors.sklearn : {\n  \"pickled_model\": \"model.pkl\",\n  \"sklearn_version\": \"1.0.2\",\n  \"serialization_format\": \"cloudpickle\",\n  \"code\": null\n}\n\t flavors : python_function,sklearn\n\t azureml.artifactPrefix : ExperimentRun/dcid.0173824c-b1eb-49e3-a64b-21e6e7aa83f5/fashionhaven-sales-predictor-gbr\n\t model_json : {\"run_id\": \"0173824c-b1eb-49e3-a64b-21e6e7aa83f5\", \"artifact_path\": \"fashionhaven-sales-predictor-gbr\", \"utc_time_created\": \"2025-03-22 18:51:05.919178\", \"flavors\": {\"python_function\": {\"model_path\": \"model.pkl\", \"predict_fn\": \"predict\", \"loader_module\": \"mlflow.sklearn\", \"python_version\": \"3.8.16\", \"env\": {\"conda\": \"conda.yaml\", \"virtualenv\": \"python_env.yaml\"}}, \"sklearn\": {\"pickled_model\": \"model.pkl\", \"sklearn_version\": \"1.0.2\", \"serialization_format\": \"cloudpickle\", \"code\": null}}, \"model_uuid\": \"cac01ffbd1bc4bf4b5afd7939d941b4e\", \"mlflow_version\": \"2.4.1\"}\n\t azureml.storagePath : ExperimentRun/dcid.0173824c-b1eb-49e3-a64b-21e6e7aa83f5/fashionhaven-sales-predictor-gbr\n\t mlflow.modelSourceUri : azureml://eastus2.api.azureml.ms/mlflow/v2.0/subscriptions/d990bb6c-7849-4109-9dd7-6cafa051c8ae/resourceGroups/mlcloud/providers/Microsoft.MachineLearningServices/workspaces/mlcloud/experiments/44ff229a-c674-48a9-a4f1-0636949d13fe/runs/0173824c-b1eb-49e3-a64b-21e6e7aa83f5/artifacts/fashionhaven-sales-predictor-gbr\n\n\nfashionhaven-sales-predictor-gbr version: 3\n\t flavors.python_function : {\n  \"model_path\": \"model.pkl\",\n  \"predict_fn\": \"predict\",\n  \"loader_module\": \"mlflow.sklearn\",\n  \"python_version\": \"3.8.16\",\n  \"env\": {\n    \"conda\": \"conda.yaml\",\n    \"virtualenv\": \"python_env.yaml\"\n  }\n}\n\t flavors.sklearn : {\n  \"pickled_model\": \"model.pkl\",\n  \"sklearn_version\": \"1.0.2\",\n  \"serialization_format\": \"cloudpickle\",\n  \"code\": null\n}\n\t flavors : python_function,sklearn\n\t azureml.artifactPrefix : ExperimentRun/dcid.32af2f12-c372-4489-8a8c-d0e1731d16f8/fashionhaven-sales-predictor-gbr\n\t model_json : {\"run_id\": \"32af2f12-c372-4489-8a8c-d0e1731d16f8\", \"artifact_path\": \"fashionhaven-sales-predictor-gbr\", \"utc_time_created\": \"2025-03-22 18:13:04.093318\", \"flavors\": {\"python_function\": {\"model_path\": \"model.pkl\", \"predict_fn\": \"predict\", \"loader_module\": \"mlflow.sklearn\", \"python_version\": \"3.8.16\", \"env\": {\"conda\": \"conda.yaml\", \"virtualenv\": \"python_env.yaml\"}}, \"sklearn\": {\"pickled_model\": \"model.pkl\", \"sklearn_version\": \"1.0.2\", \"serialization_format\": \"cloudpickle\", \"code\": null}}, \"model_uuid\": \"c258e1a0b8994b20a00c4a63223b7a49\", \"mlflow_version\": \"2.4.1\"}\n\t azureml.storagePath : ExperimentRun/dcid.32af2f12-c372-4489-8a8c-d0e1731d16f8/fashionhaven-sales-predictor-gbr\n\t mlflow.modelSourceUri : azureml://eastus2.api.azureml.ms/mlflow/v2.0/subscriptions/d990bb6c-7849-4109-9dd7-6cafa051c8ae/resourceGroups/mlcloud/providers/Microsoft.MachineLearningServices/workspaces/mlcloud/experiments/44ff229a-c674-48a9-a4f1-0636949d13fe/runs/32af2f12-c372-4489-8a8c-d0e1731d16f8/artifacts/fashionhaven-sales-predictor-gbr\n\n\nfashionhaven-sales-predictor-gbr version: 2\n\t flavors.python_function : {\n  \"model_path\": \"model.pkl\",\n  \"predict_fn\": \"predict\",\n  \"loader_module\": \"mlflow.sklearn\",\n  \"python_version\": \"3.8.16\",\n  \"env\": {\n    \"conda\": \"conda.yaml\",\n    \"virtualenv\": \"python_env.yaml\"\n  }\n}\n\t flavors.sklearn : {\n  \"pickled_model\": \"model.pkl\",\n  \"sklearn_version\": \"1.0.2\",\n  \"serialization_format\": \"cloudpickle\",\n  \"code\": null\n}\n\t flavors : python_function,sklearn\n\t azureml.artifactPrefix : ExperimentRun/dcid.ce795c1f-081d-4048-814c-e831b8616af3/fashionhaven-sales-predictor-gbr\n\t model_json : {\"run_id\": \"ce795c1f-081d-4048-814c-e831b8616af3\", \"artifact_path\": \"fashionhaven-sales-predictor-gbr\", \"utc_time_created\": \"2025-03-18 20:31:30.268977\", \"flavors\": {\"python_function\": {\"model_path\": \"model.pkl\", \"predict_fn\": \"predict\", \"loader_module\": \"mlflow.sklearn\", \"python_version\": \"3.8.16\", \"env\": {\"conda\": \"conda.yaml\", \"virtualenv\": \"python_env.yaml\"}}, \"sklearn\": {\"pickled_model\": \"model.pkl\", \"sklearn_version\": \"1.0.2\", \"serialization_format\": \"cloudpickle\", \"code\": null}}, \"model_uuid\": \"6a1285b9b0b1429a8832582d1e12978d\", \"mlflow_version\": \"2.4.1\"}\n\t azureml.storagePath : ExperimentRun/dcid.ce795c1f-081d-4048-814c-e831b8616af3/fashionhaven-sales-predictor-gbr\n\t mlflow.modelSourceUri : azureml://eastus2.api.azureml.ms/mlflow/v2.0/subscriptions/d990bb6c-7849-4109-9dd7-6cafa051c8ae/resourceGroups/mlcloud/providers/Microsoft.MachineLearningServices/workspaces/mlcloud/experiments/44ff229a-c674-48a9-a4f1-0636949d13fe/runs/ce795c1f-081d-4048-814c-e831b8616af3/artifacts/fashionhaven-sales-predictor-gbr\n\n\nfashionhaven-sales-predictor-gbr version: 1\n\t flavors.python_function : {\n  \"model_path\": \"model.pkl\",\n  \"predict_fn\": \"predict\",\n  \"loader_module\": \"mlflow.sklearn\",\n  \"python_version\": \"3.8.16\",\n  \"env\": {\n    \"conda\": \"conda.yaml\",\n    \"virtualenv\": \"python_env.yaml\"\n  }\n}\n\t flavors.sklearn : {\n  \"pickled_model\": \"model.pkl\",\n  \"sklearn_version\": \"1.0.2\",\n  \"serialization_format\": \"cloudpickle\",\n  \"code\": null\n}\n\t flavors : python_function,sklearn\n\t azureml.artifactPrefix : ExperimentRun/dcid.840298d7-0c05-40b6-8bbd-58678ce91b5a/fashionhaven-sales-predictor-gbr\n\t model_json : {\"run_id\": \"840298d7-0c05-40b6-8bbd-58678ce91b5a\", \"artifact_path\": \"fashionhaven-sales-predictor-gbr\", \"utc_time_created\": \"2025-03-18 20:12:46.869804\", \"flavors\": {\"python_function\": {\"model_path\": \"model.pkl\", \"predict_fn\": \"predict\", \"loader_module\": \"mlflow.sklearn\", \"python_version\": \"3.8.16\", \"env\": {\"conda\": \"conda.yaml\", \"virtualenv\": \"python_env.yaml\"}}, \"sklearn\": {\"pickled_model\": \"model.pkl\", \"sklearn_version\": \"1.0.2\", \"serialization_format\": \"cloudpickle\", \"code\": null}}, \"model_uuid\": \"cd9b2ad6f75c4bae97f95fb150e05139\", \"mlflow_version\": \"2.4.1\"}\n\t azureml.storagePath : ExperimentRun/dcid.840298d7-0c05-40b6-8bbd-58678ce91b5a/fashionhaven-sales-predictor-gbr\n\t mlflow.modelSourceUri : azureml://eastus2.api.azureml.ms/mlflow/v2.0/subscriptions/d990bb6c-7849-4109-9dd7-6cafa051c8ae/resourceGroups/mlcloud/providers/Microsoft.MachineLearningServices/workspaces/mlcloud/experiments/44ff229a-c674-48a9-a4f1-0636949d13fe/runs/840298d7-0c05-40b6-8bbd-58678ce91b5a/artifacts/fashionhaven-sales-predictor-gbr\n\n\ngbr-diamond-price-predictor version: 1\n\t flavors.python_function : {\n  \"model_path\": \"model.pkl\",\n  \"predict_fn\": \"predict\",\n  \"loader_module\": \"mlflow.sklearn\",\n  \"python_version\": \"3.8.16\",\n  \"env\": {\n    \"conda\": \"conda.yaml\",\n    \"virtualenv\": \"python_env.yaml\"\n  }\n}\n\t flavors.sklearn : {\n  \"pickled_model\": \"model.pkl\",\n  \"sklearn_version\": \"1.0.2\",\n  \"serialization_format\": \"cloudpickle\",\n  \"code\": null\n}\n\t flavors : python_function,sklearn\n\t azureml.artifactPrefix : ExperimentRun/dcid.6a9442d9-7a8b-46ab-9894-ccaefebcf323/gbr-diamond-price-predictor\n\t model_json : {\"run_id\": \"6a9442d9-7a8b-46ab-9894-ccaefebcf323\", \"artifact_path\": \"gbr-diamond-price-predictor\", \"utc_time_created\": \"2025-03-18 17:07:15.614164\", \"flavors\": {\"python_function\": {\"model_path\": \"model.pkl\", \"predict_fn\": \"predict\", \"loader_module\": \"mlflow.sklearn\", \"python_version\": \"3.8.16\", \"env\": {\"conda\": \"conda.yaml\", \"virtualenv\": \"python_env.yaml\"}}, \"sklearn\": {\"pickled_model\": \"model.pkl\", \"sklearn_version\": \"1.0.2\", \"serialization_format\": \"cloudpickle\", \"code\": null}}, \"model_uuid\": \"52f9aa55bb644828afd6dc6d0b578750\", \"mlflow_version\": \"2.4.1\"}\n\t azureml.storagePath : ExperimentRun/dcid.6a9442d9-7a8b-46ab-9894-ccaefebcf323/gbr-diamond-price-predictor\n\t mlflow.modelSourceUri : azureml://eastus2.api.azureml.ms/mlflow/v2.0/subscriptions/d990bb6c-7849-4109-9dd7-6cafa051c8ae/resourceGroups/mlcloud/providers/Microsoft.MachineLearningServices/workspaces/mlcloud/experiments/44ff229a-c674-48a9-a4f1-0636949d13fe/runs/6a9442d9-7a8b-46ab-9894-ccaefebcf323/artifacts/gbr-diamond-price-predictor\n\n\n"
        }
      ],
      "execution_count": 21,
      "metadata": {
        "gather": {
          "logged": 1746916010760
        }
      }
    },
    {
      "cell_type": "code",
      "source": [
        "automl_model"
      ],
      "outputs": [
        {
          "output_type": "execute_result",
          "execution_count": 25,
          "data": {
            "text/plain": "Model(workspace=Workspace.create(name='mlcloud', subscription_id='d990bb6c-7849-4109-9dd7-6cafa051c8ae', resource_group='mlcloud'), name=automl_capstone_bestmodel, id=automl_capstone_bestmodel:2, version=2, tags={}, properties={})"
          },
          "metadata": {}
        }
      ],
      "execution_count": 25,
      "metadata": {
        "gather": {
          "logged": 1746916395995
        }
      }
    },
    {
      "cell_type": "markdown",
      "source": [
        "## Model Deployment\n",
        "\n",
        "Remember you have to deploy only one of the two models you trained but you still need to register both the models. Perform the steps in the rest of this notebook only if you wish to deploy this model.\n",
        "\n",
        "TODO: In the cell below, register the model, create an inference config and deploy the model as a web service."
      ],
      "metadata": {}
    },
    {
      "cell_type": "code",
      "source": [
        "# Download scoring file \n",
        "best_run.download_file('outputs/scoring_file_v_1_0_0.py', 'scoreScript.py')\n",
        "\n",
        "# Download environment file\n",
        "best_run.download_file('outputs/conda_env_v_1_0_0.yml', 'envFile.yml')\n"
      ],
      "outputs": [],
      "execution_count": 22,
      "metadata": {
        "gather": {
          "logged": 1746916214862
        },
        "jupyter": {
          "outputs_hidden": false,
          "source_hidden": false
        },
        "nteract": {
          "transient": {
            "deleting": false
          }
        }
      }
    },
    {
      "cell_type": "code",
      "source": [
        "from azureml.core.environment import Environment\n",
        "from azureml.core.model import InferenceConfig\n",
        "\n",
        "inference_config = InferenceConfig(entry_script='scoreScript.py',\n",
        "                                    environment=best_run.get_environment())\n",
        "\n",
        "# deployauth_header = interactive_auth.get_authentication_header()\n",
        "from azureml.core.webservice import AciWebservice\n",
        "\n",
        "deployment_config = AciWebservice.deploy_configuration(cpu_cores = 1, memory_gb = 1)\n",
        "service = Model.deploy(ws, \"automlservice\", [automl_model], inference_config, deployment_config)\n",
        "service.wait_for_deployment(show_output = True)\n",
        "print(service.state)\n",
        "\n",
        "print(service.scoring_uri)\n",
        "\n",
        "print(service.swagger_uri)"
      ],
      "outputs": [
        {
          "output_type": "stream",
          "name": "stdout",
          "text": "Tips: You can try get_logs(): https://aka.ms/debugimage#dockerlog or local deployment: https://aka.ms/debugimage#debug-locally to debug if deployment takes longer than 10 minutes.\nRunning\n2025-05-10 22:33:59+00:00 Creating Container Registry if not exists.\n2025-05-10 22:33:59+00:00 Generating deployment configuration.\n2025-05-10 22:34:02+00:00 Submitting deployment to compute.\n2025-05-10 22:34:06+00:00 Checking the status of deployment automlservice..\n2025-05-10 22:37:43+00:00 Checking the status of inference endpoint automlservice.\nSucceeded\nACI service creation operation finished, operation \"Succeeded\"\nHealthy\nhttp://0cf9ff93-42e7-4444-b612-84121d2240c7.eastus2.azurecontainer.io/score\nhttp://0cf9ff93-42e7-4444-b612-84121d2240c7.eastus2.azurecontainer.io/swagger.json\n"
        }
      ],
      "execution_count": 26,
      "metadata": {
        "gather": {
          "logged": 1746916672131
        }
      }
    },
    {
      "cell_type": "markdown",
      "source": [
        "TODO: In the cell below, send a request to the web service you deployed to test it."
      ],
      "metadata": {
        "collapsed": true,
        "gather": {
          "logged": 1598431657736
        },
        "jupyter": {
          "outputs_hidden": false,
          "source_hidden": false
        },
        "nteract": {
          "transient": {
            "deleting": false
          }
        }
      }
    },
    {
      "cell_type": "code",
      "source": [
        "from azureml.core.authentication import InteractiveLoginAuthentication\n",
        "\n",
        "interactive_auth = InteractiveLoginAuthentication()\n",
        "auth_header = interactive_auth.get_authentication_header()"
      ],
      "outputs": [],
      "execution_count": 30,
      "metadata": {
        "gather": {
          "logged": 1746916920983
        }
      }
    },
    {
      "cell_type": "code",
      "source": [
        "df.head()"
      ],
      "outputs": [
        {
          "output_type": "execute_result",
          "execution_count": 27,
          "data": {
            "text/plain": "   person_age person_gender person_education  person_income  person_emp_exp  \\\n0       22.00        female           Master       71948.00               0   \n1       21.00        female      High School       12282.00               0   \n2       25.00        female      High School       12438.00               3   \n3       23.00        female         Bachelor       79753.00               0   \n4       24.00          male           Master       66135.00               1   \n\n  person_home_ownership  loan_amnt loan_intent  loan_int_rate  \\\n0                  RENT   35000.00    PERSONAL          16.02   \n1                   OWN    1000.00   EDUCATION          11.14   \n2              MORTGAGE    5500.00     MEDICAL          12.87   \n3                  RENT   35000.00     MEDICAL          15.23   \n4                  RENT   35000.00     MEDICAL          14.27   \n\n   loan_percent_income  cb_person_cred_hist_length  credit_score  \\\n0                 0.49                        3.00           561   \n1                 0.08                        2.00           504   \n2                 0.44                        3.00           635   \n3                 0.44                        2.00           675   \n4                 0.53                        4.00           586   \n\n   previous_loan_defaults_on_file  loan_status  \n0                           False            1  \n1                            True            0  \n2                           False            1  \n3                           False            1  \n4                           False            1  ",
            "text/html": "<div>\n<style scoped>\n    .dataframe tbody tr th:only-of-type {\n        vertical-align: middle;\n    }\n\n    .dataframe tbody tr th {\n        vertical-align: top;\n    }\n\n    .dataframe thead th {\n        text-align: right;\n    }\n</style>\n<table border=\"1\" class=\"dataframe\">\n  <thead>\n    <tr style=\"text-align: right;\">\n      <th></th>\n      <th>person_age</th>\n      <th>person_gender</th>\n      <th>person_education</th>\n      <th>person_income</th>\n      <th>person_emp_exp</th>\n      <th>person_home_ownership</th>\n      <th>loan_amnt</th>\n      <th>loan_intent</th>\n      <th>loan_int_rate</th>\n      <th>loan_percent_income</th>\n      <th>cb_person_cred_hist_length</th>\n      <th>credit_score</th>\n      <th>previous_loan_defaults_on_file</th>\n      <th>loan_status</th>\n    </tr>\n  </thead>\n  <tbody>\n    <tr>\n      <th>0</th>\n      <td>22.00</td>\n      <td>female</td>\n      <td>Master</td>\n      <td>71948.00</td>\n      <td>0</td>\n      <td>RENT</td>\n      <td>35000.00</td>\n      <td>PERSONAL</td>\n      <td>16.02</td>\n      <td>0.49</td>\n      <td>3.00</td>\n      <td>561</td>\n      <td>False</td>\n      <td>1</td>\n    </tr>\n    <tr>\n      <th>1</th>\n      <td>21.00</td>\n      <td>female</td>\n      <td>High School</td>\n      <td>12282.00</td>\n      <td>0</td>\n      <td>OWN</td>\n      <td>1000.00</td>\n      <td>EDUCATION</td>\n      <td>11.14</td>\n      <td>0.08</td>\n      <td>2.00</td>\n      <td>504</td>\n      <td>True</td>\n      <td>0</td>\n    </tr>\n    <tr>\n      <th>2</th>\n      <td>25.00</td>\n      <td>female</td>\n      <td>High School</td>\n      <td>12438.00</td>\n      <td>3</td>\n      <td>MORTGAGE</td>\n      <td>5500.00</td>\n      <td>MEDICAL</td>\n      <td>12.87</td>\n      <td>0.44</td>\n      <td>3.00</td>\n      <td>635</td>\n      <td>False</td>\n      <td>1</td>\n    </tr>\n    <tr>\n      <th>3</th>\n      <td>23.00</td>\n      <td>female</td>\n      <td>Bachelor</td>\n      <td>79753.00</td>\n      <td>0</td>\n      <td>RENT</td>\n      <td>35000.00</td>\n      <td>MEDICAL</td>\n      <td>15.23</td>\n      <td>0.44</td>\n      <td>2.00</td>\n      <td>675</td>\n      <td>False</td>\n      <td>1</td>\n    </tr>\n    <tr>\n      <th>4</th>\n      <td>24.00</td>\n      <td>male</td>\n      <td>Master</td>\n      <td>66135.00</td>\n      <td>1</td>\n      <td>RENT</td>\n      <td>35000.00</td>\n      <td>MEDICAL</td>\n      <td>14.27</td>\n      <td>0.53</td>\n      <td>4.00</td>\n      <td>586</td>\n      <td>False</td>\n      <td>1</td>\n    </tr>\n  </tbody>\n</table>\n</div>"
          },
          "metadata": {}
        }
      ],
      "execution_count": 27,
      "metadata": {
        "gather": {
          "logged": 1746916795371
        }
      }
    },
    {
      "cell_type": "code",
      "source": [
        "import json\n",
        "\n",
        "#Import test data\n",
        "test_data = df.sample(10) # data is the pandas dataframe of the original data\n",
        "label_df = test_data.pop('loan_status')\n",
        "\n",
        "json_sample = json.dumps({'data': test_data.to_dict(orient='records')})\n",
        "\n",
        "print(json_sample)"
      ],
      "outputs": [
        {
          "output_type": "stream",
          "name": "stdout",
          "text": "{\"data\": [{\"person_age\": 30.0, \"person_gender\": \"female\", \"person_education\": \"Master\", \"person_income\": 29948.0, \"person_emp_exp\": 5, \"person_home_ownership\": \"RENT\", \"loan_amnt\": 3000.0, \"loan_intent\": \"VENTURE\", \"loan_int_rate\": 9.77, \"loan_percent_income\": 0.1, \"cb_person_cred_hist_length\": 7.0, \"credit_score\": 613, \"previous_loan_defaults_on_file\": true}, {\"person_age\": 24.0, \"person_gender\": \"female\", \"person_education\": \"High School\", \"person_income\": 78886.0, \"person_emp_exp\": 2, \"person_home_ownership\": \"RENT\", \"loan_amnt\": 8000.0, \"loan_intent\": \"EDUCATION\", \"loan_int_rate\": 12.69, \"loan_percent_income\": 0.1, \"cb_person_cred_hist_length\": 3.0, \"credit_score\": 644, \"previous_loan_defaults_on_file\": true}, {\"person_age\": 31.0, \"person_gender\": \"female\", \"person_education\": \"Associate\", \"person_income\": 48241.0, \"person_emp_exp\": 8, \"person_home_ownership\": \"RENT\", \"loan_amnt\": 2500.0, \"loan_intent\": \"MEDICAL\", \"loan_int_rate\": 15.27, \"loan_percent_income\": 0.05, \"cb_person_cred_hist_length\": 8.0, \"credit_score\": 696, \"previous_loan_defaults_on_file\": true}, {\"person_age\": 29.0, \"person_gender\": \"female\", \"person_education\": \"Bachelor\", \"person_income\": 130341.0, \"person_emp_exp\": 5, \"person_home_ownership\": \"MORTGAGE\", \"loan_amnt\": 20588.0, \"loan_intent\": \"HOMEIMPROVEMENT\", \"loan_int_rate\": 10.74, \"loan_percent_income\": 0.16, \"cb_person_cred_hist_length\": 9.0, \"credit_score\": 562, \"previous_loan_defaults_on_file\": true}, {\"person_age\": 32.0, \"person_gender\": \"male\", \"person_education\": \"Master\", \"person_income\": 97454.0, \"person_emp_exp\": 8, \"person_home_ownership\": \"MORTGAGE\", \"loan_amnt\": 11000.0, \"loan_intent\": \"HOMEIMPROVEMENT\", \"loan_int_rate\": 9.82, \"loan_percent_income\": 0.11, \"cb_person_cred_hist_length\": 6.0, \"credit_score\": 585, \"previous_loan_defaults_on_file\": true}, {\"person_age\": 29.0, \"person_gender\": \"female\", \"person_education\": \"Associate\", \"person_income\": 85798.0, \"person_emp_exp\": 10, \"person_home_ownership\": \"RENT\", \"loan_amnt\": 35000.0, \"loan_intent\": \"PERSONAL\", \"loan_int_rate\": 8.9, \"loan_percent_income\": 0.41, \"cb_person_cred_hist_length\": 6.0, \"credit_score\": 650, \"previous_loan_defaults_on_file\": false}, {\"person_age\": 28.0, \"person_gender\": \"male\", \"person_education\": \"Bachelor\", \"person_income\": 31047.0, \"person_emp_exp\": 7, \"person_home_ownership\": \"MORTGAGE\", \"loan_amnt\": 6000.0, \"loan_intent\": \"HOMEIMPROVEMENT\", \"loan_int_rate\": 14.72, \"loan_percent_income\": 0.19, \"cb_person_cred_hist_length\": 10.0, \"credit_score\": 715, \"previous_loan_defaults_on_file\": false}, {\"person_age\": 25.0, \"person_gender\": \"female\", \"person_education\": \"Master\", \"person_income\": 52802.0, \"person_emp_exp\": 1, \"person_home_ownership\": \"RENT\", \"loan_amnt\": 12000.0, \"loan_intent\": \"VENTURE\", \"loan_int_rate\": 12.9, \"loan_percent_income\": 0.23, \"cb_person_cred_hist_length\": 3.0, \"credit_score\": 693, \"previous_loan_defaults_on_file\": true}, {\"person_age\": 29.0, \"person_gender\": \"male\", \"person_education\": \"Associate\", \"person_income\": 56165.0, \"person_emp_exp\": 3, \"person_home_ownership\": \"RENT\", \"loan_amnt\": 12000.0, \"loan_intent\": \"EDUCATION\", \"loan_int_rate\": 11.01, \"loan_percent_income\": 0.21, \"cb_person_cred_hist_length\": 9.0, \"credit_score\": 580, \"previous_loan_defaults_on_file\": true}, {\"person_age\": 28.0, \"person_gender\": \"male\", \"person_education\": \"Bachelor\", \"person_income\": 31334.0, \"person_emp_exp\": 5, \"person_home_ownership\": \"RENT\", \"loan_amnt\": 9659.0, \"loan_intent\": \"MEDICAL\", \"loan_int_rate\": 15.82, \"loan_percent_income\": 0.31, \"cb_person_cred_hist_length\": 9.0, \"credit_score\": 681, \"previous_loan_defaults_on_file\": false}]}\n"
        }
      ],
      "execution_count": 28,
      "metadata": {
        "gather": {
          "logged": 1746916884939
        }
      }
    },
    {
      "cell_type": "code",
      "source": [
        "type(json_sample)"
      ],
      "outputs": [
        {
          "output_type": "execute_result",
          "execution_count": 36,
          "data": {
            "text/plain": "str"
          },
          "metadata": {}
        }
      ],
      "execution_count": 36,
      "metadata": {
        "gather": {
          "logged": 1746917184220
        }
      }
    },
    {
      "cell_type": "code",
      "source": [
        "import urllib.request\n",
        "import json\n",
        "\n",
        "# Request data goes here\n",
        "# The example below assumes JSON formatting which may be updated\n",
        "# depending on the format your endpoint expects.\n",
        "# More information can be found here:\n",
        "# https://docs.microsoft.com/azure/machine-learning/how-to-deploy-advanced-entry-script\n",
        "# data = json_sample\n",
        "data = json.loads(json_sample)\n",
        "body = str.encode(json.dumps(data))\n",
        "\n",
        "url = 'http://0cf9ff93-42e7-4444-b612-84121d2240c7.eastus2.azurecontainer.io/score'\n",
        "\n",
        "\n",
        "headers = {'Content-Type':'application/json', 'Accept': 'application/json'}\n",
        "\n",
        "req = urllib.request.Request(url, body, headers)\n",
        "\n",
        "try:\n",
        "    response = urllib.request.urlopen(req)\n",
        "\n",
        "    result = response.read()\n",
        "    print(result)\n",
        "except urllib.error.HTTPError as error:\n",
        "    print(\"The request failed with status code: \" + str(error.code))\n",
        "\n",
        "    # Print the headers - they include the requert ID and the timestamp, which are useful for debugging the failure\n",
        "    print(error.info())\n",
        "    print(error.read().decode(\"utf8\", 'ignore'))"
      ],
      "outputs": [
        {
          "output_type": "stream",
          "name": "stdout",
          "text": "b'\"{\\\\\"result\\\\\": [0, 0, 0, 0, 0, 1, 0, 0, 0, 1]}\"'\n"
        }
      ],
      "execution_count": 37,
      "metadata": {
        "gather": {
          "logged": 1746917254574
        }
      }
    },
    {
      "cell_type": "markdown",
      "source": [
        "TODO: In the cell below, print the logs of the web service and delete the service"
      ],
      "metadata": {
        "collapsed": true,
        "gather": {
          "logged": 1598432765711
        },
        "jupyter": {
          "outputs_hidden": false,
          "source_hidden": false
        },
        "nteract": {
          "transient": {
            "deleting": false
          }
        }
      }
    },
    {
      "cell_type": "code",
      "source": [],
      "outputs": [],
      "execution_count": null,
      "metadata": {
        "jupyter": {
          "outputs_hidden": false,
          "source_hidden": false
        },
        "nteract": {
          "transient": {
            "deleting": false
          }
        }
      }
    },
    {
      "cell_type": "markdown",
      "source": [
        "**Submission Checklist**\n",
        "- I have registered the model.\n",
        "- I have deployed the model with the best accuracy as a webservice.\n",
        "- I have tested the webservice by sending a request to the model endpoint.\n",
        "- I have deleted the webservice and shutdown all the computes that I have used.\n",
        "- I have taken a screenshot showing the model endpoint as active.\n",
        "- The project includes a file containing the environment details.\n"
      ],
      "metadata": {}
    },
    {
      "cell_type": "markdown",
      "source": [],
      "metadata": {}
    }
  ],
  "metadata": {
    "kernel_info": {
      "name": "python38-azureml"
    },
    "kernelspec": {
      "name": "python38-azureml",
      "language": "python",
      "display_name": "Python 3.10 - AzureML"
    },
    "language_info": {
      "name": "python",
      "version": "3.10.11",
      "mimetype": "text/x-python",
      "codemirror_mode": {
        "name": "ipython",
        "version": 3
      },
      "pygments_lexer": "ipython3",
      "nbconvert_exporter": "python",
      "file_extension": ".py"
    },
    "nteract": {
      "version": "nteract-front-end@1.0.0"
    },
    "microsoft": {
      "host": {
        "AzureML": {
          "notebookHasBeenCompleted": true
        }
      },
      "ms_spell_check": {
        "ms_spell_check_language": "en"
      }
    }
  },
  "nbformat": 4,
  "nbformat_minor": 2
}